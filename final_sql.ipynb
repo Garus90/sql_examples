{
 "cells": [
  {
   "cell_type": "markdown",
   "metadata": {},
   "source": [
    "# Анализ данных онлайн магазина чтения книг по подписке"
   ]
  },
  {
   "cell_type": "markdown",
   "metadata": {},
   "source": [
    "## Посчитать, сколько книг вышло после 1 января 2000 года;\n"
   ]
  },
  {
   "cell_type": "code",
   "execution_count": 7,
   "metadata": {},
   "outputs": [],
   "source": [
    "query = '''\n",
    "SELECT \n",
    "    COUNT(book_id)\n",
    "FROM \n",
    "    books\n",
    "WHERE \n",
    "    publication_date > '2000-01-01';\n",
    "\n",
    "'''"
   ]
  },
  {
   "cell_type": "code",
   "execution_count": 8,
   "metadata": {},
   "outputs": [
    {
     "data": {
      "text/html": [
       "<div>\n",
       "<style scoped>\n",
       "    .dataframe tbody tr th:only-of-type {\n",
       "        vertical-align: middle;\n",
       "    }\n",
       "\n",
       "    .dataframe tbody tr th {\n",
       "        vertical-align: top;\n",
       "    }\n",
       "\n",
       "    .dataframe thead th {\n",
       "        text-align: right;\n",
       "    }\n",
       "</style>\n",
       "<table border=\"1\" class=\"dataframe\">\n",
       "  <thead>\n",
       "    <tr style=\"text-align: right;\">\n",
       "      <th></th>\n",
       "      <th>count</th>\n",
       "    </tr>\n",
       "  </thead>\n",
       "  <tbody>\n",
       "    <tr>\n",
       "      <th>0</th>\n",
       "      <td>819</td>\n",
       "    </tr>\n",
       "  </tbody>\n",
       "</table>\n",
       "</div>"
      ],
      "text/plain": [
       "   count\n",
       "0    819"
      ]
     },
     "execution_count": 8,
     "metadata": {},
     "output_type": "execute_result"
    }
   ],
   "source": [
    "pd.io.sql.read_sql(query, con = engine)"
   ]
  },
  {
   "cell_type": "markdown",
   "metadata": {},
   "source": [
    "<b>Вывод </b>  \n",
    "В базе данных имеется информация о 819 книгах, вышедших после 1 января 2000 года"
   ]
  },
  {
   "cell_type": "markdown",
   "metadata": {},
   "source": [
    "## Для каждой книги посчитать количество обзоров и среднюю оценку;\n"
   ]
  },
  {
   "cell_type": "code",
   "execution_count": 9,
   "metadata": {},
   "outputs": [
    {
     "data": {
      "text/html": [
       "<div>\n",
       "<style scoped>\n",
       "    .dataframe tbody tr th:only-of-type {\n",
       "        vertical-align: middle;\n",
       "    }\n",
       "\n",
       "    .dataframe tbody tr th {\n",
       "        vertical-align: top;\n",
       "    }\n",
       "\n",
       "    .dataframe thead th {\n",
       "        text-align: right;\n",
       "    }\n",
       "</style>\n",
       "<table border=\"1\" class=\"dataframe\">\n",
       "  <thead>\n",
       "    <tr style=\"text-align: right;\">\n",
       "      <th></th>\n",
       "      <th>title</th>\n",
       "      <th>book_id</th>\n",
       "      <th>avg_rat</th>\n",
       "      <th>count_rev</th>\n",
       "    </tr>\n",
       "  </thead>\n",
       "  <tbody>\n",
       "    <tr>\n",
       "      <th>0</th>\n",
       "      <td>The Cat in the Hat and Other Dr. Seuss Favorites</td>\n",
       "      <td>672</td>\n",
       "      <td>5.0</td>\n",
       "      <td>NaN</td>\n",
       "    </tr>\n",
       "    <tr>\n",
       "      <th>1</th>\n",
       "      <td>A Dirty Job (Grim Reaper  #1)</td>\n",
       "      <td>17</td>\n",
       "      <td>5.0</td>\n",
       "      <td>4.0</td>\n",
       "    </tr>\n",
       "    <tr>\n",
       "      <th>2</th>\n",
       "      <td>Moneyball: The Art of Winning an Unfair Game</td>\n",
       "      <td>444</td>\n",
       "      <td>5.0</td>\n",
       "      <td>3.0</td>\n",
       "    </tr>\n",
       "    <tr>\n",
       "      <th>3</th>\n",
       "      <td>School's Out—Forever (Maximum Ride  #2)</td>\n",
       "      <td>553</td>\n",
       "      <td>5.0</td>\n",
       "      <td>3.0</td>\n",
       "    </tr>\n",
       "    <tr>\n",
       "      <th>4</th>\n",
       "      <td>Captivating: Unveiling the Mystery of a Woman'...</td>\n",
       "      <td>136</td>\n",
       "      <td>5.0</td>\n",
       "      <td>2.0</td>\n",
       "    </tr>\n",
       "    <tr>\n",
       "      <th>5</th>\n",
       "      <td>Alas  Babylon</td>\n",
       "      <td>62</td>\n",
       "      <td>5.0</td>\n",
       "      <td>2.0</td>\n",
       "    </tr>\n",
       "    <tr>\n",
       "      <th>6</th>\n",
       "      <td>Crucial Conversations: Tools for Talking When ...</td>\n",
       "      <td>169</td>\n",
       "      <td>5.0</td>\n",
       "      <td>2.0</td>\n",
       "    </tr>\n",
       "    <tr>\n",
       "      <th>7</th>\n",
       "      <td>Act of Treason (Mitch Rapp  #9)</td>\n",
       "      <td>57</td>\n",
       "      <td>5.0</td>\n",
       "      <td>2.0</td>\n",
       "    </tr>\n",
       "    <tr>\n",
       "      <th>8</th>\n",
       "      <td>A Fistful of Charms (The Hollows  #4)</td>\n",
       "      <td>20</td>\n",
       "      <td>5.0</td>\n",
       "      <td>2.0</td>\n",
       "    </tr>\n",
       "    <tr>\n",
       "      <th>9</th>\n",
       "      <td>A Woman of Substance (Emma Harte Saga #1)</td>\n",
       "      <td>55</td>\n",
       "      <td>5.0</td>\n",
       "      <td>2.0</td>\n",
       "    </tr>\n",
       "  </tbody>\n",
       "</table>\n",
       "</div>"
      ],
      "text/plain": [
       "                                               title  book_id  avg_rat  \\\n",
       "0   The Cat in the Hat and Other Dr. Seuss Favorites      672      5.0   \n",
       "1                      A Dirty Job (Grim Reaper  #1)       17      5.0   \n",
       "2       Moneyball: The Art of Winning an Unfair Game      444      5.0   \n",
       "3            School's Out—Forever (Maximum Ride  #2)      553      5.0   \n",
       "4  Captivating: Unveiling the Mystery of a Woman'...      136      5.0   \n",
       "5                                      Alas  Babylon       62      5.0   \n",
       "6  Crucial Conversations: Tools for Talking When ...      169      5.0   \n",
       "7                    Act of Treason (Mitch Rapp  #9)       57      5.0   \n",
       "8              A Fistful of Charms (The Hollows  #4)       20      5.0   \n",
       "9          A Woman of Substance (Emma Harte Saga #1)       55      5.0   \n",
       "\n",
       "   count_rev  \n",
       "0        NaN  \n",
       "1        4.0  \n",
       "2        3.0  \n",
       "3        3.0  \n",
       "4        2.0  \n",
       "5        2.0  \n",
       "6        2.0  \n",
       "7        2.0  \n",
       "8        2.0  \n",
       "9        2.0  "
      ]
     },
     "execution_count": 9,
     "metadata": {},
     "output_type": "execute_result"
    }
   ],
   "source": [
    "query = '''\n",
    "WITH\n",
    "\n",
    "avg_rating AS \n",
    "    (SELECT book_id, \n",
    "    ROUND(AVG(RATING),2) AS avg_rat\n",
    "    FROM ratings\n",
    "    GROUP BY book_id\n",
    "    ORDER BY book_id),\n",
    "\n",
    "count_reviews AS \n",
    "    (SELECT book_id, \n",
    "    COUNT(review_id) AS count_rev\n",
    "    FROM reviews\n",
    "    GROUP BY book_id\n",
    "    ORDER BY book_id)\n",
    "\n",
    "SELECT \n",
    "    b.title,\n",
    "    b.book_id,\n",
    "    rat.avg_rat,\n",
    "    rev.count_rev\n",
    "\n",
    "FROM \n",
    "    books AS b \n",
    "FULL JOIN --- используем оператор FULL JOIN чтобы в запрос попали все книги, в т.ч. те, которые не получили оценок или ревью \n",
    "    avg_rating AS rat ON b.book_id = rat.book_id\n",
    "FULL JOIN count_reviews AS rev ON b.book_id = rev.book_id\n",
    "\n",
    "\n",
    "ORDER BY\n",
    "    rat.avg_rat DESC,\n",
    "    rev.count_rev DESC\n",
    "    \n",
    "\n",
    "LIMIT \n",
    "    10;\n",
    "'''\n",
    "\n",
    "pd.io.sql.read_sql(query, con = engine)"
   ]
  },
  {
   "cell_type": "markdown",
   "metadata": {},
   "source": [
    "<b>Вывод </b>  \n",
    "В соответствии с запросом составлена таблица со количеством ревью и средним рейтингом. Лидер по рейтингу и по ревью - книга `A Dirty Job (Grim Reaper #1)`. У нее 5 баллов и 4 обзора. Следует отметить, что на  книгу `The Cat in the Hat and Other Dr. Seuss Favorites` не оставлено ни одного обзора не смотря на ее высокий рейтинг"
   ]
  },
  {
   "cell_type": "markdown",
   "metadata": {},
   "source": [
    "## Определить издательство, которое выпустило наибольшее число книг толще 50 страниц (исключение брошюр)\n"
   ]
  },
  {
   "cell_type": "code",
   "execution_count": 10,
   "metadata": {},
   "outputs": [
    {
     "data": {
      "text/html": [
       "<div>\n",
       "<style scoped>\n",
       "    .dataframe tbody tr th:only-of-type {\n",
       "        vertical-align: middle;\n",
       "    }\n",
       "\n",
       "    .dataframe tbody tr th {\n",
       "        vertical-align: top;\n",
       "    }\n",
       "\n",
       "    .dataframe thead th {\n",
       "        text-align: right;\n",
       "    }\n",
       "</style>\n",
       "<table border=\"1\" class=\"dataframe\">\n",
       "  <thead>\n",
       "    <tr style=\"text-align: right;\">\n",
       "      <th></th>\n",
       "      <th>publisher</th>\n",
       "      <th>publisher_id</th>\n",
       "      <th>count_of_books</th>\n",
       "    </tr>\n",
       "  </thead>\n",
       "  <tbody>\n",
       "    <tr>\n",
       "      <th>0</th>\n",
       "      <td>Penguin Books</td>\n",
       "      <td>212</td>\n",
       "      <td>42</td>\n",
       "    </tr>\n",
       "  </tbody>\n",
       "</table>\n",
       "</div>"
      ],
      "text/plain": [
       "       publisher  publisher_id  count_of_books\n",
       "0  Penguin Books           212              42"
      ]
     },
     "execution_count": 10,
     "metadata": {},
     "output_type": "execute_result"
    }
   ],
   "source": [
    "query = '''\n",
    "\n",
    "WITH \n",
    "cnt_of_books AS\n",
    "        (SELECT \n",
    "        publisher_id,\n",
    "        COUNT(DISTINCT book_id) AS count_of_books\n",
    "        FROM books\n",
    "        WHERE  num_pages > 50 \n",
    "        GROUP BY publisher_id)\n",
    "        \n",
    "\n",
    "SELECT \n",
    "    p.publisher,\n",
    "    p.publisher_id,\n",
    "    c.count_of_books\n",
    "FROM\n",
    "    publishers AS p \n",
    "    JOIN cnt_of_books AS c ON p.publisher_id = c.publisher_id\n",
    "\n",
    "ORDER BY \n",
    "    c.count_of_books DESC\n",
    "LIMIT 1;\n",
    "\n",
    "'''\n",
    "pd.io.sql.read_sql(query, con = engine)"
   ]
  },
  {
   "cell_type": "markdown",
   "metadata": {},
   "source": [
    "<b>Вывод </b>  \n",
    "Издательсво, которое выпустило больше всего книг - `Penguin Books`.     \n",
    "За весь период данное издательство выпустило 42 книги больше 50 страниц"
   ]
  },
  {
   "cell_type": "markdown",
   "metadata": {},
   "source": [
    "## Определить автора с самой высокой средней оценкой книг — будем учитывать только книги с 50 и более оценками;\n"
   ]
  },
  {
   "cell_type": "code",
   "execution_count": 11,
   "metadata": {},
   "outputs": [
    {
     "data": {
      "text/html": [
       "<div>\n",
       "<style scoped>\n",
       "    .dataframe tbody tr th:only-of-type {\n",
       "        vertical-align: middle;\n",
       "    }\n",
       "\n",
       "    .dataframe tbody tr th {\n",
       "        vertical-align: top;\n",
       "    }\n",
       "\n",
       "    .dataframe thead th {\n",
       "        text-align: right;\n",
       "    }\n",
       "</style>\n",
       "<table border=\"1\" class=\"dataframe\">\n",
       "  <thead>\n",
       "    <tr style=\"text-align: right;\">\n",
       "      <th></th>\n",
       "      <th>author</th>\n",
       "      <th>number_of_ratings</th>\n",
       "      <th>overall_rating</th>\n",
       "    </tr>\n",
       "  </thead>\n",
       "  <tbody>\n",
       "    <tr>\n",
       "      <th>0</th>\n",
       "      <td>J.K. Rowling/Mary GrandPré</td>\n",
       "      <td>310.0</td>\n",
       "      <td>4.28</td>\n",
       "    </tr>\n",
       "  </tbody>\n",
       "</table>\n",
       "</div>"
      ],
      "text/plain": [
       "                       author  number_of_ratings  overall_rating\n",
       "0  J.K. Rowling/Mary GrandPré              310.0            4.28"
      ]
     },
     "execution_count": 11,
     "metadata": {},
     "output_type": "execute_result"
    }
   ],
   "source": [
    "query = '''\n",
    "\n",
    "SELECT\n",
    "    t.author,\n",
    "    SUM(t.rating_count) AS number_of_ratings,\n",
    "    ROUND(AVG(t.avg_rating),2) AS overall_rating\n",
    "\n",
    "FROM\n",
    "    (SELECT \n",
    "        r.book_id AS book_id,\n",
    "        b.title AS title,\n",
    "        a.author AS author,\n",
    "        COUNT(r.rating_id) AS rating_count,\n",
    "        AVG(r.rating) AS avg_rating\n",
    "    FROM \n",
    "        ratings AS r\n",
    "        LEFT JOIN books as b ON r.book_id = b.book_id\n",
    "        LEFT JOIN authors AS a ON b.author_id = a.author_id\n",
    "    GROUP BY \n",
    "        1,\n",
    "        2,\n",
    "        3\n",
    "    HAVING \n",
    "        COUNT(r.rating_id) > 50) AS t\n",
    "\n",
    "GROUP BY \n",
    "    1\n",
    "ORDER BY \n",
    "    3 DESC,\n",
    "    2 DESC\n",
    "LIMIT\n",
    "    1;\n",
    "\n",
    "        '''\n",
    "pd.io.sql.read_sql(query, con = engine)\n",
    "        "
   ]
  },
  {
   "cell_type": "markdown",
   "metadata": {},
   "source": [
    "<b>Вывод </b>  \n",
    "Автор, имеющий наибольшее среднее значение рейтинга книг, для книг с количеством оценок не менее 50 - это `J.K. Rowling/Mary GrandPré`. Книги этого автора собрали 310 оценок и среднее занчение рейтинга составляет 4.28 баллов из 5"
   ]
  },
  {
   "cell_type": "markdown",
   "metadata": {},
   "source": [
    "## Посчитать среднее количество обзоров от пользователей, которые поставили больше 50 оценок."
   ]
  },
  {
   "cell_type": "code",
   "execution_count": 12,
   "metadata": {},
   "outputs": [
    {
     "data": {
      "text/html": [
       "<div>\n",
       "<style scoped>\n",
       "    .dataframe tbody tr th:only-of-type {\n",
       "        vertical-align: middle;\n",
       "    }\n",
       "\n",
       "    .dataframe tbody tr th {\n",
       "        vertical-align: top;\n",
       "    }\n",
       "\n",
       "    .dataframe thead th {\n",
       "        text-align: right;\n",
       "    }\n",
       "</style>\n",
       "<table border=\"1\" class=\"dataframe\">\n",
       "  <thead>\n",
       "    <tr style=\"text-align: right;\">\n",
       "      <th></th>\n",
       "      <th>num_of_users</th>\n",
       "      <th>avg_reviews</th>\n",
       "    </tr>\n",
       "  </thead>\n",
       "  <tbody>\n",
       "    <tr>\n",
       "      <th>0</th>\n",
       "      <td>6</td>\n",
       "      <td>24.33</td>\n",
       "    </tr>\n",
       "  </tbody>\n",
       "</table>\n",
       "</div>"
      ],
      "text/plain": [
       "   num_of_users  avg_reviews\n",
       "0             6        24.33"
      ]
     },
     "execution_count": 12,
     "metadata": {},
     "output_type": "execute_result"
    }
   ],
   "source": [
    "query = '''\n",
    "\n",
    "\n",
    "SELECT \n",
    "    COUNT(a.username) AS num_of_users,\n",
    "    ROUND(AVG(num_of_reviews),2) AS avg_reviews\n",
    "FROM\n",
    "    (SELECT \n",
    "        rat.username,\n",
    "        COUNT(rat.rating_id) AS num_of_marks\n",
    "    FROM \n",
    "        ratings AS rat \n",
    "    GROUP BY \n",
    "        rat.username\n",
    "    HAVING \n",
    "        COUNT(rat.rating_id) > 50) AS a\n",
    "\n",
    "LEFT JOIN \n",
    "\n",
    "    (SELECT \n",
    "        username,\n",
    "        count(review_id) AS num_of_reviews\n",
    "    FROM \n",
    "        reviews \n",
    "    GROUP BY 1) AS b \n",
    "    \n",
    "ON a.username = b.username\n",
    "\n",
    "\n",
    "\n",
    "'''\n",
    "pd.io.sql.read_sql(query, con = engine)"
   ]
  },
  {
   "cell_type": "markdown",
   "metadata": {},
   "source": [
    "<b>Вывод </b>  \n",
    "Всего 6 пользователей сервиса оставили более 50 оценок к книгам. В среднем эти пользователи написали 24.33 обзора на литературу, представленную на сайте"
   ]
  },
  {
   "cell_type": "markdown",
   "metadata": {},
   "source": [
    "# Общий вывод\n",
    "Проведен анализ данных сервиса чтения книг по подписке. \n",
    "Получены следующие результаты:\n",
    "- В базе данных имеется информация о 819 книгах, вышедших после 1 января 2000 года.\n",
    "- Лидер по рейтингу и по ревью - книга `A Dirty Job (Grim Reaper #1)`. У нее 5 баллов и 4 обзора. \n",
    "- Издательсво, которое выпустило больше всего книг - `Penguin Books`. За весь период данное издательство выпустило 42 книги больше 50 страниц\n",
    "- Автор, имеющий наибольшее среднее значение рейтинга книг, для книг с количеством оценок не менее 50 - это J.K. Rowling/Mary GrandPré.\n",
    "- Всего 6 пользователей сервиса оставили более 50 оценок к книгам. В среднем эти пользователи написали 24.33 обзора на литературу, представленную на сайте"
   ]
  },
  {
   "cell_type": "code",
   "execution_count": null,
   "metadata": {},
   "outputs": [],
   "source": []
  }
 ],
 "metadata": {
  "ExecuteTimeLog": [
   {
    "duration": 9380,
    "start_time": "2022-11-22T09:12:57.869Z"
   },
   {
    "duration": 75,
    "start_time": "2022-11-22T09:14:44.385Z"
   },
   {
    "duration": 2,
    "start_time": "2022-11-22T09:14:48.797Z"
   },
   {
    "duration": 75,
    "start_time": "2022-11-22T09:14:49.623Z"
   },
   {
    "duration": 2,
    "start_time": "2022-11-22T09:43:38.051Z"
   },
   {
    "duration": 15,
    "start_time": "2022-11-22T09:43:45.773Z"
   },
   {
    "duration": 155,
    "start_time": "2022-11-22T09:43:52.155Z"
   },
   {
    "duration": 12,
    "start_time": "2022-11-22T09:44:40.996Z"
   },
   {
    "duration": 15,
    "start_time": "2022-11-22T09:45:22.335Z"
   },
   {
    "duration": 13,
    "start_time": "2022-11-22T09:45:26.950Z"
   },
   {
    "duration": 13,
    "start_time": "2022-11-22T09:45:27.304Z"
   },
   {
    "duration": 12,
    "start_time": "2022-11-22T09:45:27.783Z"
   },
   {
    "duration": 2,
    "start_time": "2022-11-22T09:50:41.987Z"
   },
   {
    "duration": 11,
    "start_time": "2022-11-22T09:50:42.512Z"
   },
   {
    "duration": 4,
    "start_time": "2022-11-22T11:02:12.707Z"
   },
   {
    "duration": 15,
    "start_time": "2022-11-22T11:02:13.920Z"
   },
   {
    "duration": 115,
    "start_time": "2022-11-22T11:02:21.205Z"
   },
   {
    "duration": 8,
    "start_time": "2022-11-22T11:02:32.678Z"
   },
   {
    "duration": 127,
    "start_time": "2022-11-22T11:02:33.836Z"
   },
   {
    "duration": 3,
    "start_time": "2022-11-22T11:02:54.760Z"
   },
   {
    "duration": 101,
    "start_time": "2022-11-22T11:02:55.566Z"
   },
   {
    "duration": 3,
    "start_time": "2022-11-22T11:03:22.504Z"
   },
   {
    "duration": 129,
    "start_time": "2022-11-22T11:03:23.521Z"
   },
   {
    "duration": 3,
    "start_time": "2022-11-22T11:03:37.628Z"
   },
   {
    "duration": 124,
    "start_time": "2022-11-22T11:03:38.697Z"
   },
   {
    "duration": 3,
    "start_time": "2022-11-22T11:03:47.593Z"
   },
   {
    "duration": 102,
    "start_time": "2022-11-22T11:03:48.079Z"
   },
   {
    "duration": 2,
    "start_time": "2022-11-22T11:04:09.772Z"
   },
   {
    "duration": 124,
    "start_time": "2022-11-22T11:04:10.862Z"
   },
   {
    "duration": 3,
    "start_time": "2022-11-22T11:04:27.069Z"
   },
   {
    "duration": 242,
    "start_time": "2022-11-22T11:04:28.450Z"
   },
   {
    "duration": 2,
    "start_time": "2022-11-22T11:05:17.248Z"
   },
   {
    "duration": 89,
    "start_time": "2022-11-22T11:05:17.795Z"
   },
   {
    "duration": 3,
    "start_time": "2022-11-22T11:05:47.243Z"
   },
   {
    "duration": 23,
    "start_time": "2022-11-22T11:05:47.747Z"
   },
   {
    "duration": 3,
    "start_time": "2022-11-22T11:06:00.956Z"
   },
   {
    "duration": 31,
    "start_time": "2022-11-22T11:06:01.957Z"
   },
   {
    "duration": 2,
    "start_time": "2022-11-22T11:06:33.401Z"
   },
   {
    "duration": 28,
    "start_time": "2022-11-22T11:06:34.854Z"
   },
   {
    "duration": 3,
    "start_time": "2022-11-22T11:06:59.515Z"
   },
   {
    "duration": 93,
    "start_time": "2022-11-22T11:07:00.675Z"
   },
   {
    "duration": 2,
    "start_time": "2022-11-22T11:07:08.567Z"
   },
   {
    "duration": 25,
    "start_time": "2022-11-22T11:07:09.568Z"
   },
   {
    "duration": 2,
    "start_time": "2022-11-22T11:07:14.907Z"
   },
   {
    "duration": 26,
    "start_time": "2022-11-22T11:07:15.457Z"
   },
   {
    "duration": 3,
    "start_time": "2022-11-22T11:07:51.093Z"
   },
   {
    "duration": 28,
    "start_time": "2022-11-22T11:07:52.267Z"
   },
   {
    "duration": 2,
    "start_time": "2022-11-22T11:08:11.440Z"
   },
   {
    "duration": 28,
    "start_time": "2022-11-22T11:08:12.378Z"
   },
   {
    "duration": 252,
    "start_time": "2022-11-22T11:08:55.393Z"
   },
   {
    "duration": 22,
    "start_time": "2022-11-22T11:09:04.780Z"
   },
   {
    "duration": 18,
    "start_time": "2022-11-22T11:09:48.342Z"
   },
   {
    "duration": 3617,
    "start_time": "2022-11-22T11:26:11.115Z"
   },
   {
    "duration": 4015,
    "start_time": "2022-11-22T11:27:09.151Z"
   },
   {
    "duration": 4642,
    "start_time": "2022-11-22T11:28:07.562Z"
   },
   {
    "duration": 15,
    "start_time": "2022-11-22T11:32:06.122Z"
   },
   {
    "duration": 15,
    "start_time": "2022-11-22T11:32:21.044Z"
   },
   {
    "duration": 16,
    "start_time": "2022-11-22T11:32:27.198Z"
   },
   {
    "duration": 100,
    "start_time": "2022-11-22T11:32:33.310Z"
   },
   {
    "duration": 37,
    "start_time": "2022-11-22T11:32:38.971Z"
   },
   {
    "duration": 113,
    "start_time": "2022-11-22T11:36:33.016Z"
   },
   {
    "duration": 100,
    "start_time": "2022-11-22T11:36:41.807Z"
   },
   {
    "duration": 90,
    "start_time": "2022-11-22T11:37:01.150Z"
   },
   {
    "duration": 84,
    "start_time": "2022-11-22T11:37:07.314Z"
   },
   {
    "duration": 17,
    "start_time": "2022-11-22T11:37:31.777Z"
   },
   {
    "duration": 18,
    "start_time": "2022-11-22T11:37:48.410Z"
   },
   {
    "duration": 15,
    "start_time": "2022-11-22T11:38:51.071Z"
   },
   {
    "duration": 18,
    "start_time": "2022-11-22T11:39:34.288Z"
   },
   {
    "duration": 2,
    "start_time": "2022-11-22T11:42:31.700Z"
   },
   {
    "duration": 142,
    "start_time": "2022-11-22T11:42:37.519Z"
   },
   {
    "duration": 25,
    "start_time": "2022-11-22T11:43:11.621Z"
   },
   {
    "duration": 21,
    "start_time": "2022-11-22T11:44:03.464Z"
   },
   {
    "duration": 21,
    "start_time": "2022-11-22T11:44:25.029Z"
   },
   {
    "duration": 30,
    "start_time": "2022-11-22T11:46:08.274Z"
   },
   {
    "duration": 35,
    "start_time": "2022-11-22T11:47:14.063Z"
   },
   {
    "duration": 34,
    "start_time": "2022-11-22T11:47:56.607Z"
   },
   {
    "duration": 19,
    "start_time": "2022-11-22T11:50:28.847Z"
   },
   {
    "duration": 21,
    "start_time": "2022-11-22T11:55:40.637Z"
   },
   {
    "duration": 22,
    "start_time": "2022-11-22T11:55:46.324Z"
   },
   {
    "duration": 23,
    "start_time": "2022-11-22T11:56:42.608Z"
   },
   {
    "duration": 19,
    "start_time": "2022-11-22T11:57:02.776Z"
   },
   {
    "duration": 18,
    "start_time": "2022-11-22T11:58:10.466Z"
   },
   {
    "duration": 20,
    "start_time": "2022-11-22T12:06:56.671Z"
   },
   {
    "duration": 14,
    "start_time": "2022-11-22T12:07:53.666Z"
   },
   {
    "duration": 99,
    "start_time": "2022-11-22T12:08:28.002Z"
   },
   {
    "duration": 92,
    "start_time": "2022-11-22T12:08:33.376Z"
   },
   {
    "duration": 94,
    "start_time": "2022-11-22T12:08:42.830Z"
   },
   {
    "duration": 95,
    "start_time": "2022-11-22T12:08:52.769Z"
   },
   {
    "duration": 89,
    "start_time": "2022-11-22T12:08:58.129Z"
   },
   {
    "duration": 14,
    "start_time": "2022-11-22T12:09:10.904Z"
   },
   {
    "duration": 20,
    "start_time": "2022-11-22T12:10:14.349Z"
   },
   {
    "duration": 16,
    "start_time": "2022-11-22T12:10:18.935Z"
   },
   {
    "duration": 22,
    "start_time": "2022-11-22T12:10:41.908Z"
   },
   {
    "duration": 103,
    "start_time": "2022-11-22T12:11:03.025Z"
   },
   {
    "duration": 145,
    "start_time": "2022-11-22T12:11:43.253Z"
   },
   {
    "duration": 23,
    "start_time": "2022-11-22T12:12:12.425Z"
   },
   {
    "duration": 21,
    "start_time": "2022-11-22T12:12:23.995Z"
   },
   {
    "duration": 19,
    "start_time": "2022-11-22T12:12:34.101Z"
   },
   {
    "duration": 96,
    "start_time": "2022-11-22T12:17:47.805Z"
   },
   {
    "duration": 17,
    "start_time": "2022-11-22T12:18:32.831Z"
   },
   {
    "duration": 13,
    "start_time": "2022-11-22T12:19:03.778Z"
   },
   {
    "duration": 29,
    "start_time": "2022-11-22T12:26:01.471Z"
   },
   {
    "duration": 22,
    "start_time": "2022-11-22T12:34:08.650Z"
   },
   {
    "duration": 24,
    "start_time": "2022-11-22T12:34:17.165Z"
   },
   {
    "duration": 20,
    "start_time": "2022-11-22T12:34:33.144Z"
   },
   {
    "duration": 92,
    "start_time": "2022-11-22T12:34:56.756Z"
   },
   {
    "duration": 21,
    "start_time": "2022-11-22T12:35:02.108Z"
   },
   {
    "duration": 19,
    "start_time": "2022-11-22T12:36:32.489Z"
   },
   {
    "duration": 18,
    "start_time": "2022-11-22T12:40:08.648Z"
   },
   {
    "duration": 13,
    "start_time": "2022-11-22T12:40:31.031Z"
   },
   {
    "duration": 104,
    "start_time": "2022-11-22T12:40:39.675Z"
   },
   {
    "duration": 12,
    "start_time": "2022-11-22T12:40:45.883Z"
   },
   {
    "duration": 19,
    "start_time": "2022-11-22T12:40:50.553Z"
   },
   {
    "duration": 22,
    "start_time": "2022-11-22T12:41:32.419Z"
   },
   {
    "duration": 20,
    "start_time": "2022-11-22T12:42:01.552Z"
   },
   {
    "duration": 27,
    "start_time": "2022-11-22T12:42:05.053Z"
   },
   {
    "duration": 91,
    "start_time": "2022-11-22T12:42:11.840Z"
   },
   {
    "duration": 29,
    "start_time": "2022-11-22T12:42:19.058Z"
   },
   {
    "duration": 19,
    "start_time": "2022-11-22T12:42:24.138Z"
   },
   {
    "duration": 22,
    "start_time": "2022-11-22T12:50:46.927Z"
   },
   {
    "duration": 15,
    "start_time": "2022-11-22T12:51:07.933Z"
   },
   {
    "duration": 13,
    "start_time": "2022-11-22T12:59:19.913Z"
   },
   {
    "duration": 96,
    "start_time": "2022-11-22T13:07:43.970Z"
   },
   {
    "duration": 105,
    "start_time": "2022-11-22T13:07:49.336Z"
   },
   {
    "duration": 13,
    "start_time": "2022-11-22T13:07:59.791Z"
   },
   {
    "duration": 93,
    "start_time": "2022-11-22T13:09:13.780Z"
   },
   {
    "duration": 13,
    "start_time": "2022-11-22T13:09:23.519Z"
   },
   {
    "duration": 98,
    "start_time": "2022-11-22T13:11:01.825Z"
   },
   {
    "duration": 95,
    "start_time": "2022-11-22T13:11:24.205Z"
   },
   {
    "duration": 101,
    "start_time": "2022-11-22T13:11:49.219Z"
   },
   {
    "duration": 16,
    "start_time": "2022-11-22T13:12:23.238Z"
   },
   {
    "duration": 19,
    "start_time": "2022-11-22T13:12:41.852Z"
   },
   {
    "duration": 27,
    "start_time": "2022-11-22T13:27:06.364Z"
   },
   {
    "duration": 14,
    "start_time": "2022-11-22T13:27:47.948Z"
   },
   {
    "duration": 89,
    "start_time": "2022-11-22T13:28:15.081Z"
   },
   {
    "duration": 13,
    "start_time": "2022-11-22T13:28:26.889Z"
   },
   {
    "duration": 86,
    "start_time": "2022-11-22T13:29:45.828Z"
   },
   {
    "duration": 14,
    "start_time": "2022-11-22T13:29:51.800Z"
   },
   {
    "duration": 98,
    "start_time": "2022-11-22T13:30:37.627Z"
   },
   {
    "duration": 36,
    "start_time": "2022-11-22T13:31:37.031Z"
   },
   {
    "duration": 36,
    "start_time": "2022-11-22T13:32:01.494Z"
   },
   {
    "duration": 39,
    "start_time": "2022-11-22T13:32:07.766Z"
   },
   {
    "duration": 8177,
    "start_time": "2022-11-22T14:42:04.232Z"
   },
   {
    "duration": 61,
    "start_time": "2022-11-22T14:42:12.411Z"
   },
   {
    "duration": 13,
    "start_time": "2022-11-22T14:42:12.474Z"
   },
   {
    "duration": 13,
    "start_time": "2022-11-22T14:42:12.489Z"
   },
   {
    "duration": 12,
    "start_time": "2022-11-22T14:42:12.503Z"
   },
   {
    "duration": 16,
    "start_time": "2022-11-22T14:42:12.516Z"
   },
   {
    "duration": 19,
    "start_time": "2022-11-22T14:42:12.533Z"
   },
   {
    "duration": 26,
    "start_time": "2022-11-22T14:42:12.554Z"
   },
   {
    "duration": 31,
    "start_time": "2022-11-22T14:42:12.581Z"
   },
   {
    "duration": 12,
    "start_time": "2022-11-22T14:42:12.615Z"
   },
   {
    "duration": 18,
    "start_time": "2022-11-22T14:42:12.629Z"
   },
   {
    "duration": 156,
    "start_time": "2022-11-22T14:42:12.650Z"
   },
   {
    "duration": 0,
    "start_time": "2022-11-22T14:42:12.808Z"
   },
   {
    "duration": 0,
    "start_time": "2022-11-22T14:42:12.810Z"
   },
   {
    "duration": 28,
    "start_time": "2022-11-22T15:02:22.632Z"
   },
   {
    "duration": 14,
    "start_time": "2022-11-22T15:02:57.765Z"
   },
   {
    "duration": 19,
    "start_time": "2022-11-22T15:03:40.280Z"
   },
   {
    "duration": 99,
    "start_time": "2022-11-22T15:03:57.376Z"
   },
   {
    "duration": 12,
    "start_time": "2022-11-22T15:04:06.854Z"
   },
   {
    "duration": 92,
    "start_time": "2022-11-22T15:05:35.147Z"
   },
   {
    "duration": 21,
    "start_time": "2022-11-22T15:05:46.413Z"
   },
   {
    "duration": 91,
    "start_time": "2022-11-22T15:06:41.451Z"
   },
   {
    "duration": 15,
    "start_time": "2022-11-22T15:06:48.362Z"
   },
   {
    "duration": 14,
    "start_time": "2022-11-22T15:08:04.693Z"
   },
   {
    "duration": 92,
    "start_time": "2022-11-22T15:08:25.884Z"
   },
   {
    "duration": 23,
    "start_time": "2022-11-22T15:08:50.919Z"
   },
   {
    "duration": 96,
    "start_time": "2022-11-22T15:12:11.201Z"
   },
   {
    "duration": 157,
    "start_time": "2022-11-22T15:12:29.369Z"
   },
   {
    "duration": 95,
    "start_time": "2022-11-22T15:12:43.533Z"
   },
   {
    "duration": 231,
    "start_time": "2022-11-22T15:12:51.931Z"
   },
   {
    "duration": 189,
    "start_time": "2022-11-22T15:13:34.363Z"
   },
   {
    "duration": 112,
    "start_time": "2022-11-22T15:14:45.104Z"
   },
   {
    "duration": 93,
    "start_time": "2022-11-22T15:14:54.500Z"
   },
   {
    "duration": 21,
    "start_time": "2022-11-22T15:15:03.227Z"
   },
   {
    "duration": 22,
    "start_time": "2022-11-22T15:15:31.313Z"
   },
   {
    "duration": 125,
    "start_time": "2022-11-22T15:16:02.362Z"
   },
   {
    "duration": 22,
    "start_time": "2022-11-22T15:16:18.785Z"
   },
   {
    "duration": 20,
    "start_time": "2022-11-22T15:16:48.377Z"
   },
   {
    "duration": 18,
    "start_time": "2022-11-22T15:19:18.262Z"
   },
   {
    "duration": 20,
    "start_time": "2022-11-22T15:19:35.842Z"
   },
   {
    "duration": 20,
    "start_time": "2022-11-22T15:19:45.832Z"
   },
   {
    "duration": 20,
    "start_time": "2022-11-22T15:19:52.867Z"
   },
   {
    "duration": 268,
    "start_time": "2022-11-22T15:20:05.091Z"
   },
   {
    "duration": 0,
    "start_time": "2022-11-22T15:20:05.361Z"
   },
   {
    "duration": 18,
    "start_time": "2022-11-22T15:20:27.086Z"
   },
   {
    "duration": 19,
    "start_time": "2022-11-22T15:20:31.991Z"
   },
   {
    "duration": 19,
    "start_time": "2022-11-22T15:20:39.311Z"
   },
   {
    "duration": 19,
    "start_time": "2022-11-22T15:20:44.116Z"
   },
   {
    "duration": 21,
    "start_time": "2022-11-22T15:20:47.408Z"
   },
   {
    "duration": 20,
    "start_time": "2022-11-22T15:20:56.185Z"
   },
   {
    "duration": 18,
    "start_time": "2022-11-22T15:21:26.140Z"
   },
   {
    "duration": 23,
    "start_time": "2022-11-22T15:22:53.242Z"
   },
   {
    "duration": 17,
    "start_time": "2022-11-22T15:25:02.984Z"
   },
   {
    "duration": 37,
    "start_time": "2022-11-22T15:25:39.785Z"
   },
   {
    "duration": 21,
    "start_time": "2022-11-22T15:26:56.052Z"
   },
   {
    "duration": 14,
    "start_time": "2022-11-22T15:30:12.689Z"
   },
   {
    "duration": 14,
    "start_time": "2022-11-22T15:30:25.097Z"
   },
   {
    "duration": 26,
    "start_time": "2022-11-22T15:30:28.930Z"
   },
   {
    "duration": 13,
    "start_time": "2022-11-22T15:30:36.593Z"
   },
   {
    "duration": 25,
    "start_time": "2022-11-22T15:32:44.588Z"
   },
   {
    "duration": 19,
    "start_time": "2022-11-22T15:34:54.626Z"
   },
   {
    "duration": 16,
    "start_time": "2022-11-22T15:36:58.553Z"
   },
   {
    "duration": 12,
    "start_time": "2022-11-22T15:37:39.163Z"
   },
   {
    "duration": 14,
    "start_time": "2022-11-22T15:38:10.456Z"
   },
   {
    "duration": 14,
    "start_time": "2022-11-22T15:39:11.606Z"
   },
   {
    "duration": 15,
    "start_time": "2022-11-22T15:39:38.024Z"
   },
   {
    "duration": 108,
    "start_time": "2022-11-22T15:40:29.353Z"
   },
   {
    "duration": 13,
    "start_time": "2022-11-22T15:40:42.691Z"
   },
   {
    "duration": 15,
    "start_time": "2022-11-22T15:40:56.712Z"
   },
   {
    "duration": 99,
    "start_time": "2022-11-22T15:41:15.976Z"
   },
   {
    "duration": 14,
    "start_time": "2022-11-22T15:41:24.590Z"
   },
   {
    "duration": 12,
    "start_time": "2022-11-22T15:41:41.574Z"
   },
   {
    "duration": 15,
    "start_time": "2022-11-22T15:41:51.507Z"
   },
   {
    "duration": 13,
    "start_time": "2022-11-22T15:42:18.761Z"
   },
   {
    "duration": 12375,
    "start_time": "2022-11-22T15:43:33.619Z"
   },
   {
    "duration": 55,
    "start_time": "2022-11-22T15:43:45.995Z"
   },
   {
    "duration": 11,
    "start_time": "2022-11-22T15:43:46.052Z"
   },
   {
    "duration": 12,
    "start_time": "2022-11-22T15:43:46.065Z"
   },
   {
    "duration": 13,
    "start_time": "2022-11-22T15:43:46.079Z"
   },
   {
    "duration": 14,
    "start_time": "2022-11-22T15:43:46.094Z"
   },
   {
    "duration": 3,
    "start_time": "2022-11-22T15:43:46.109Z"
   },
   {
    "duration": 16,
    "start_time": "2022-11-22T15:43:46.113Z"
   },
   {
    "duration": 20,
    "start_time": "2022-11-22T15:43:46.131Z"
   },
   {
    "duration": 1251,
    "start_time": "2022-11-22T15:43:46.153Z"
   },
   {
    "duration": 17,
    "start_time": "2022-11-22T15:43:47.406Z"
   },
   {
    "duration": 14,
    "start_time": "2022-11-22T15:43:47.424Z"
   },
   {
    "duration": 8928,
    "start_time": "2022-11-22T15:55:26.421Z"
   },
   {
    "duration": 63,
    "start_time": "2022-11-22T15:55:35.351Z"
   },
   {
    "duration": 13,
    "start_time": "2022-11-22T15:55:35.416Z"
   },
   {
    "duration": 10,
    "start_time": "2022-11-22T15:55:35.431Z"
   },
   {
    "duration": 9,
    "start_time": "2022-11-22T15:55:35.443Z"
   },
   {
    "duration": 10,
    "start_time": "2022-11-22T15:55:35.454Z"
   },
   {
    "duration": 2,
    "start_time": "2022-11-22T15:55:35.466Z"
   },
   {
    "duration": 10,
    "start_time": "2022-11-22T15:55:35.469Z"
   },
   {
    "duration": 34,
    "start_time": "2022-11-22T15:55:35.480Z"
   },
   {
    "duration": 11,
    "start_time": "2022-11-22T15:55:35.516Z"
   },
   {
    "duration": 14,
    "start_time": "2022-11-22T15:55:35.529Z"
   },
   {
    "duration": 11,
    "start_time": "2022-11-22T15:55:35.545Z"
   },
   {
    "duration": 147,
    "start_time": "2022-11-22T15:57:08.221Z"
   },
   {
    "duration": 19,
    "start_time": "2022-11-22T15:57:15.320Z"
   },
   {
    "duration": 28,
    "start_time": "2022-11-22T15:57:20.401Z"
   },
   {
    "duration": 18,
    "start_time": "2022-11-22T16:04:39.394Z"
   },
   {
    "duration": 19,
    "start_time": "2022-11-22T16:07:53.693Z"
   },
   {
    "duration": 19,
    "start_time": "2022-11-22T16:08:15.249Z"
   },
   {
    "duration": 23,
    "start_time": "2022-11-22T16:08:22.581Z"
   },
   {
    "duration": 21,
    "start_time": "2022-11-22T16:08:28.920Z"
   },
   {
    "duration": 8329,
    "start_time": "2022-11-22T16:11:18.849Z"
   },
   {
    "duration": 54,
    "start_time": "2022-11-22T16:11:27.180Z"
   },
   {
    "duration": 13,
    "start_time": "2022-11-22T16:11:27.236Z"
   },
   {
    "duration": 13,
    "start_time": "2022-11-22T16:11:27.251Z"
   },
   {
    "duration": 13,
    "start_time": "2022-11-22T16:11:27.266Z"
   },
   {
    "duration": 12,
    "start_time": "2022-11-22T16:11:27.281Z"
   },
   {
    "duration": 3,
    "start_time": "2022-11-22T16:11:27.295Z"
   },
   {
    "duration": 14,
    "start_time": "2022-11-22T16:11:27.300Z"
   },
   {
    "duration": 19,
    "start_time": "2022-11-22T16:11:27.316Z"
   },
   {
    "duration": 13,
    "start_time": "2022-11-22T16:11:27.338Z"
   },
   {
    "duration": 40,
    "start_time": "2022-11-22T16:11:27.353Z"
   },
   {
    "duration": 14,
    "start_time": "2022-11-22T16:11:27.394Z"
   },
   {
    "duration": 8283,
    "start_time": "2022-11-22T16:14:39.143Z"
   },
   {
    "duration": 52,
    "start_time": "2022-11-22T16:14:47.427Z"
   },
   {
    "duration": 10,
    "start_time": "2022-11-22T16:14:47.480Z"
   },
   {
    "duration": 22,
    "start_time": "2022-11-22T16:14:47.492Z"
   },
   {
    "duration": 11,
    "start_time": "2022-11-22T16:14:47.516Z"
   },
   {
    "duration": 11,
    "start_time": "2022-11-22T16:14:47.528Z"
   },
   {
    "duration": 22,
    "start_time": "2022-11-22T16:14:47.540Z"
   },
   {
    "duration": 28,
    "start_time": "2022-11-22T16:14:47.564Z"
   },
   {
    "duration": 49,
    "start_time": "2022-11-22T16:14:47.593Z"
   },
   {
    "duration": 27,
    "start_time": "2022-11-22T16:14:47.644Z"
   },
   {
    "duration": 17,
    "start_time": "2022-11-22T16:14:47.673Z"
   },
   {
    "duration": 24,
    "start_time": "2022-11-22T16:14:47.691Z"
   }
  ],
  "kernelspec": {
   "display_name": "Python 3 (ipykernel)",
   "language": "python",
   "name": "python3"
  },
  "language_info": {
   "codemirror_mode": {
    "name": "ipython",
    "version": 3
   },
   "file_extension": ".py",
   "mimetype": "text/x-python",
   "name": "python",
   "nbconvert_exporter": "python",
   "pygments_lexer": "ipython3",
   "version": "3.9.7"
  },
  "toc": {
   "base_numbering": 1,
   "nav_menu": {},
   "number_sections": false,
   "sideBar": true,
   "skip_h1_title": false,
   "title_cell": "Table of Contents",
   "title_sidebar": "Contents",
   "toc_cell": false,
   "toc_position": {
    "height": "calc(100% - 180px)",
    "left": "10px",
    "top": "150px",
    "width": "179.361px"
   },
   "toc_section_display": true,
   "toc_window_display": true
  }
 },
 "nbformat": 4,
 "nbformat_minor": 2
}
